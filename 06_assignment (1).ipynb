{
 "cells": [
  {
   "cell_type": "markdown",
   "id": "a490a675-6a76-42e3-84bc-6a869f74d2a0",
   "metadata": {},
   "source": [
    "# Q1. Create a function which will take a list as an argument and return the product of all the numbers after creating a flat list.\n",
    "\n",
    "Use the below-given list as an argument for your function.\n",
    "list1 = [1,2,3,4, [44,55,66, True], False, (34,56,78,89,34), {1,2,3,3,2,1}, {1:34, \"key2\": [55, 67, 78, 89], 4: (45,\n",
    "22, 61, 34)}, [56, 'data science'], 'Machine Learning']"
   ]
  },
  {
   "cell_type": "code",
   "execution_count": 23,
   "id": "b7ed6a7c-bbc7-4d9f-9bdf-d6c83a2858ae",
   "metadata": {},
   "outputs": [],
   "source": [
    "list1 = [1,2,3,4, [44,55,66, True], False, (34,56,78,89,34), {1,2,3,3,2,1}, {1:34, \"key2\": [55, 67, 78, 89], 4: (45, 22, 61, 34)}, [56, 'data science'], 'Machine Learning']"
   ]
  },
  {
   "cell_type": "code",
   "execution_count": 24,
   "id": "8f09f980-531b-4de6-b14b-7e3b26cdea58",
   "metadata": {},
   "outputs": [],
   "source": [
    "def product_of_numbers(ak):\n",
    "    flattened_list = []\n",
    "    for item in ak:\n",
    "        if isinstance(item, list):\n",
    "            flattened_list.extend(item)\n",
    "        elif isinstance(item, tuple):\n",
    "            flattened_list.extend(list(item))\n",
    "        elif isinstance(item, set):\n",
    "            flattened_list.extend(list(item))\n",
    "        elif isinstance(item, dict):\n",
    "            flattened_list.extend(list(item.values()))\n",
    "        else:\n",
    "            flattened_list.append(item)\n",
    "            \n",
    "    yield flattened_list"
   ]
  },
  {
   "cell_type": "code",
   "execution_count": 25,
   "id": "2862597b-e952-4d13-a147-fc81c1e5c71a",
   "metadata": {},
   "outputs": [
    {
     "name": "stdout",
     "output_type": "stream",
     "text": [
      "[1, 2, 3, 4, 44, 55, 66, True, False, 34, 56, 78, 89, 34, 1, 2, 3, 34, [55, 67, 78, 89], (45, 22, 61, 34), 56, 'data science', 'Machine Learning']\n"
     ]
    }
   ],
   "source": [
    "a = product_of_numbers(list1)\n",
    "for i in a:\n",
    "    print(i)"
   ]
  },
  {
   "cell_type": "markdown",
   "id": "b5c55858-43e5-4b61-9d14-75f45bf7e972",
   "metadata": {},
   "source": [
    "# Q2. Write a python program for encrypting a message sent to you by your friend. The logic of encryption should be such that, for a the output should be z. For b, the output should be y. For c, the output should be x respectively. Also, the whitespace should be replaced with a dollar sign. Keep the punctuation marks unchanged.\n",
    "\n",
    "Input Sentence: I want to become a Data Scientist.\n",
    "\n",
    "Encrypt the above input sentence using the program you just created.\n",
    "\n",
    "Note: Convert the given input sentence into lowercase before encrypting. The final output should be\n",
    "lowercase."
   ]
  },
  {
   "cell_type": "code",
   "execution_count": 28,
   "id": "2e46baa6-1df0-41de-ae20-90ebcfbb1f4d",
   "metadata": {},
   "outputs": [],
   "source": [
    "def encrypt(x):\n",
    "    a = ['a','b','c','d','e','f','g','h','i','j','k','l','m','n','o','p','q','r','s','t','u','v','w','x','y','z',' ','A','B','C','D','E','F','G','H','I','J','K','L','M','N','O','P','Q','R','S','T','U','V','W','X','Y','Z']\n",
    "    b = ['z','y','x','w','v','u','t','s','r','q','p','o','n','m','l','k','j','i','h','g','f','e','d','c','b','a','$','Z','Y','X','W','V','U','T','S','R','Q','P','O','N','M','L','K','J','I','H','G','F','E','D','C','B','A']\n",
    "    c = \"\"\n",
    "    for i in x:\n",
    "        x = a.index(i)\n",
    "        y = x[b]\n",
    "        c = c+y\n",
    "    return c"
   ]
  },
  {
   "cell_type": "code",
   "execution_count": null,
   "id": "4d183785-31f2-479f-a9be-a5e5480168d3",
   "metadata": {},
   "outputs": [],
   "source": [
    "enstr = input(\"Enter Message \\n\")\n",
    "enstring = encrypt(enstr)\n",
    "print(enstring)  "
   ]
  },
  {
   "cell_type": "code",
   "execution_count": null,
   "id": "a4687104-35a6-4c13-8664-bb3f0690d68c",
   "metadata": {},
   "outputs": [],
   "source": []
  }
 ],
 "metadata": {
  "kernelspec": {
   "display_name": "Python 3 (ipykernel)",
   "language": "python",
   "name": "python3"
  },
  "language_info": {
   "codemirror_mode": {
    "name": "ipython",
    "version": 3
   },
   "file_extension": ".py",
   "mimetype": "text/x-python",
   "name": "python",
   "nbconvert_exporter": "python",
   "pygments_lexer": "ipython3",
   "version": "3.10.8"
  }
 },
 "nbformat": 4,
 "nbformat_minor": 5
}
